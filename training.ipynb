{
 "cells": [
  {
   "cell_type": "code",
   "execution_count": 8,
   "metadata": {},
   "outputs": [
    {
     "name": "stdout",
     "output_type": "stream",
     "text": [
      "True\n",
      "Singleton Variable\n"
     ]
    }
   ],
   "source": [
    "class SingletonClass(object):\n",
    "    def __new__(cls):\n",
    "        if not hasattr(cls, 'instance'):\n",
    "            cls.instance = super(SingletonClass, cls).__new__(cls)\n",
    "        return cls.instance\n",
    "\n",
    "singleton = SingletonClass()\n",
    "new_singleton = SingletonClass()\n",
    "\n",
    "print(singleton is new_singleton)\n",
    "\n",
    "singleton.singl_variable = \"Singleton Variable\"\n",
    "print(new_singleton.singl_variable)"
   ]
  },
  {
   "cell_type": "code",
   "execution_count": 10,
   "metadata": {},
   "outputs": [
    {
     "name": "stdout",
     "output_type": "stream",
     "text": [
      "False\n",
      "False\n",
      "Shared Variable\n"
     ]
    }
   ],
   "source": [
    "class BorgSingleton(object):\n",
    "  _shared_borg_state = {}\n",
    "  \n",
    "  def __new__(cls, *args, **kwargs):\n",
    "    obj = super(BorgSingleton, cls).__new__(cls, *args, **kwargs)\n",
    "    obj.__dict__ = cls._shared_borg_state\n",
    "    return obj\n",
    "  \n",
    "borg = BorgSingleton()\n",
    "borg.shared_variable = \"Shared Variable\"\n",
    "\n",
    "class ChildBorg(BorgSingleton):\n",
    "  pass\n",
    "\n",
    "childBorg = ChildBorg()\n",
    "childBorg2= ChildBorg()\n",
    "print(childBorg is borg)\n",
    "print(childBorg is childBorg2)\n",
    "print(childBorg.shared_variable)"
   ]
  },
  {
   "cell_type": "code",
   "execution_count": 17,
   "metadata": {},
   "outputs": [
    {
     "name": "stdout",
     "output_type": "stream",
     "text": [
      "<__main__.SingletonPerson object at 0x000000E6D7DCAA50>\n",
      "<__main__.SingletonPerson object at 0x000000E6D7D43250>\n"
     ]
    }
   ],
   "source": [
    "class SingletonPerson:\n",
    "    instance = None\n",
    "    \n",
    "    def __init__(self):\n",
    "        \"\"\"\n",
    "        when you call init, it create a new varable\n",
    "        in memory.and this code will not change the \n",
    "        original variable:\n",
    "        self = self.creator()\n",
    "\n",
    "        \"\"\"\n",
    "        self = self.creator()\n",
    "        \n",
    "        \n",
    "\n",
    "    def creator(self):\n",
    "        if SingletonPerson.instance == None:\n",
    "            SingletonPerson.instance = self\n",
    "        ins = SingletonPerson.instance    \n",
    "        return ins\n",
    "\n",
    "\n",
    "p1 = SingletonPerson() \n",
    "p2 = SingletonPerson()\n",
    "print(p1)\n",
    "print(p2)\n",
    "\n"
   ]
  },
  {
   "attachments": {},
   "cell_type": "markdown",
   "metadata": {},
   "source": [
    "about __new__:\n",
    "1: it will called before __init__ !\n",
    "\n",
    "2: its mission is to create object and store it\n",
    "\n",
    "3: __init__`s mission is to initialization the instance that ceated by __new__\n",
    "\n",
    "4: if __new__ dosenot return a object, so __init__will not initilize it.\n",
    "\n"
   ]
  },
  {
   "cell_type": "code",
   "execution_count": 22,
   "metadata": {},
   "outputs": [
    {
     "name": "stdout",
     "output_type": "stream",
     "text": [
      "('nasima',) {}\n",
      "you created a obj: <__main__.Person object at 0x000000E6D7DCAE40>\n",
      "('delbR',) {}\n",
      "you created a obj: <__main__.Person object at 0x000000E6D7D43890>\n"
     ]
    }
   ],
   "source": [
    "class Person: # = Person(object).all classes in python inheritenced from object class\n",
    "    def __new__(cls, *args, **kwargs):\n",
    "        print(args, kwargs)\n",
    "        instance = super().__new__(cls)\n",
    "        print(f\"you created a obj: {instance}\")\n",
    "        return instance\n",
    "\n",
    "    def __init__(self, name):\n",
    "        self.name = name\n",
    "        \n",
    "p1 = Person(\"nasima\")\n",
    "p2 = Person(\"delbR\")\n",
    "\n",
    "\n",
    "        "
   ]
  },
  {
   "attachments": {},
   "cell_type": "markdown",
   "metadata": {},
   "source": [
    "2 usecase for __new__:\n",
    "1- singleton\n",
    "2- editing classes that cant be changed like str, tuple"
   ]
  },
  {
   "cell_type": "code",
   "execution_count": null,
   "metadata": {},
   "outputs": [],
   "source": [
    "\"\"\"\n",
    "ensuring: cant creating more than one instance of a class.\n",
    "singlton DP\n",
    "\n",
    "\n",
    "\"\"\"\n",
    "\n",
    "\n",
    "class Mysingleton: \n",
    "    _instance = None # for storing that one instance\n",
    "\n",
    "    def __new__(cls): # cls = Mysinglton\n",
    "        if cls._instance is None:\n",
    "            cls._instance = super().__new__(cls)\n",
    "            \"\"\"\n",
    "            # calling object.__new__ with super()\n",
    "            it returns an object from class Mysingleton(cls)\n",
    "            \"\"\"\n",
    "        return cls._instance\n",
    "p1 = Mysingleton()\n",
    "p2 = Mysingleton()\n",
    "print(p1 is p2)\n",
    "print(Mysingleton._instance)\n",
    "        "
   ]
  },
  {
   "cell_type": "code",
   "execution_count": 25,
   "metadata": {},
   "outputs": [
    {
     "name": "stdout",
     "output_type": "stream",
     "text": [
      "YOOEEE\n"
     ]
    }
   ],
   "source": [
    "class customstr(str):\n",
    "    def __new__(cls, value):\n",
    "        return super().__new__(cls, value.upper())\n",
    "    \n",
    "a = customstr(\"yooeee\")\n",
    "print(a)"
   ]
  },
  {
   "cell_type": "code",
   "execution_count": null,
   "metadata": {},
   "outputs": [],
   "source": [
    "class SingletonPerson:\n",
    "    instance = None\n",
    "    \n",
    "    def __new__(cls):\n",
    "        if cls.instance == None:\n",
    "            cls.instance = super().__new__(cls)\n",
    "\n",
    "        return cls.instance\n",
    "        \n",
    "\n",
    "    def creator(self):\n",
    "        if SingletonPerson.instance == None:\n",
    "            SingletonPerson.instance = self\n",
    "        ins = SingletonPerson.instance    \n",
    "        return ins\n",
    "\n",
    "\n",
    "p1 = SingletonPerson() \n",
    "p2 = SingletonPerson()\n",
    "print(p1)\n",
    "print(p2)"
   ]
  },
  {
   "attachments": {},
   "cell_type": "markdown",
   "metadata": {},
   "source": [
    "dataclasses usecases:\n",
    "1- reduce *boilerplate codes \n",
    "2- immutable (optional)\n",
    "3- clear and better debuging with its __repr__ \n",
    "\n",
    "*boilerplate: \n",
    "a code section that is standard, reapatative, often used with no or little edit. like:\n",
    "def __init__(self, name, password, age, email):\n",
    "    self.name = name\n",
    "    ..."
   ]
  },
  {
   "cell_type": "code",
   "execution_count": 2,
   "metadata": {},
   "outputs": [
    {
     "data": {
      "text/plain": [
       "Person(name='mmd', age=88)"
      ]
     },
     "execution_count": 2,
     "metadata": {},
     "output_type": "execute_result"
    }
   ],
   "source": [
    "from dataclasses import dataclass\n",
    "\n",
    "@dataclass(frozen=True)\n",
    "class Person:\n",
    "    name : str # field\n",
    "    age : int = 88 # field\n",
    "\n",
    "p1 = Person(\"mmd\")\n",
    "p1# Person(name='mmd', age='88')\n"
   ]
  },
  {
   "cell_type": "code",
   "execution_count": 4,
   "metadata": {},
   "outputs": [
    {
     "name": "stderr",
     "output_type": "stream",
     "text": [
      "WARNING:root:warning message\n",
      "ERROR:root:error occured\n",
      "CRITICAL:root:holy sheet!\n"
     ]
    }
   ],
   "source": [
    "import logging\n",
    "logging.debug(\"im debuger\")\n",
    "logging.info(\"im info\")\n",
    "logging.warning(\"warning message\")\n",
    "logging.error(\"error occured\")\n",
    "logging.critical(\"holy sheet!\")"
   ]
  },
  {
   "cell_type": "code",
   "execution_count": 6,
   "metadata": {},
   "outputs": [],
   "source": [
    "import logging\n",
    "logging.basicConfig(filename=\"test.log\", level=logging.DEBUG)\n",
    "logging.debug(\"logging\")\n"
   ]
  }
 ],
 "metadata": {
  "kernelspec": {
   "display_name": "Python 3",
   "language": "python",
   "name": "python3"
  },
  "language_info": {
   "codemirror_mode": {
    "name": "ipython",
    "version": 3
   },
   "file_extension": ".py",
   "mimetype": "text/x-python",
   "name": "python",
   "nbconvert_exporter": "python",
   "pygments_lexer": "ipython3",
   "version": "3.12.4"
  },
  "orig_nbformat": 4
 },
 "nbformat": 4,
 "nbformat_minor": 2
}
